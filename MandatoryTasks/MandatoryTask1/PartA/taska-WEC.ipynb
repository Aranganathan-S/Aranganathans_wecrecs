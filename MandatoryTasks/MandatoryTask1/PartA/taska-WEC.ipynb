{
 "cells": [
  {
   "cell_type": "code",
   "execution_count": null,
   "metadata": {
    "_cell_guid": "b1076dfc-b9ad-4769-8c92-a6c4dae69d19",
    "_uuid": "8f2839f25d086af736a60e9eeb907d3b93b6e0e5",
    "trusted": true
   },
   "outputs": [],
   "source": [
    "# This Python 3 environment comes with many helpful analytics libraries installed\n",
    "# It is defined by the kaggle/python Docker image: https://github.com/kaggle/docker-python\n",
    "# For example, here's several helpful packages to load\n",
    "\n",
    "import numpy as np # linear algebra\n",
    "import pandas as pd # data processing, CSV file I/O (e.g. pd.read_csv)\n",
    "\n",
    "# Input data files are available in the read-only \"../input/\" directory\n",
    "# For example, running this (by clicking run or pressing Shift+Enter) will list all files under the input directory\n",
    "\n",
    "import os\n",
    "for dirname, _, filenames in os.walk('/kaggle/input'):\n",
    "    for filename in filenames:\n",
    "        print(os.path.join(dirname, filename))\n",
    "\n",
    "# You can write up to 20GB to the current directory (/kaggle/working/) that gets preserved as output when you create a version using \"Save & Run All\" \n",
    "# You can also write temporary files to /kaggle/temp/, but they won't be saved outside of the current session"
   ]
  },
  {
   "cell_type": "code",
   "execution_count": null,
   "metadata": {
    "trusted": true
   },
   "outputs": [],
   "source": [
    "from datasets import load_dataset\n",
    "\n",
    "ds = load_dataset(\"lucadiliello/newsqa\")"
   ]
  },
  {
   "cell_type": "code",
   "execution_count": null,
   "metadata": {
    "trusted": true
   },
   "outputs": [],
   "source": [
    "ds['train'][5]"
   ]
  },
  {
   "cell_type": "code",
   "execution_count": null,
   "metadata": {
    "trusted": true
   },
   "outputs": [],
   "source": [
    "!pip uninstall -y numpy\n",
    "!pip install numpy==1.26.4\n",
    "!pip install datasets gensim nltk"
   ]
  },
  {
   "cell_type": "code",
   "execution_count": null,
   "metadata": {
    "execution": {
     "iopub.execute_input": "2025-10-21T05:54:51.234573Z",
     "iopub.status.busy": "2025-10-21T05:54:51.233839Z",
     "iopub.status.idle": "2025-10-21T05:54:51.239740Z",
     "shell.execute_reply": "2025-10-21T05:54:51.238899Z",
     "shell.execute_reply.started": "2025-10-21T05:54:51.234550Z"
    },
    "trusted": true
   },
   "outputs": [
    {
     "name": "stderr",
     "output_type": "stream",
     "text": [
      "[nltk_data] Downloading package punkt to /usr/share/nltk_data...\n",
      "[nltk_data]   Package punkt is already up-to-date!\n",
      "[nltk_data] Downloading package stopwords to /usr/share/nltk_data...\n",
      "[nltk_data]   Package stopwords is already up-to-date!\n"
     ]
    }
   ],
   "source": [
    "import nltk\n",
    "from datasets import load_dataset\n",
    "from gensim.models import Word2Vec, FastText\n",
    "import string\n",
    "import re\n",
    "import csv\n",
    "\n",
    "nltk.download('punkt')\n",
    "nltk.download('stopwords')\n",
    "from nltk.tokenize import word_tokenize\n",
    "from nltk.corpus import stopwords"
   ]
  },
  {
   "cell_type": "code",
   "execution_count": 3,
   "metadata": {
    "execution": {
     "iopub.execute_input": "2025-10-21T05:55:17.883770Z",
     "iopub.status.busy": "2025-10-21T05:55:17.882979Z",
     "iopub.status.idle": "2025-10-21T05:55:18.768090Z",
     "shell.execute_reply": "2025-10-21T05:55:18.767525Z",
     "shell.execute_reply.started": "2025-10-21T05:55:17.883723Z"
    },
    "trusted": true
   },
   "outputs": [],
   "source": [
    "from datasets import load_dataset\n",
    "\n",
    "dataset = load_dataset(\"lucadiliello/newsqa\")"
   ]
  },
  {
   "cell_type": "code",
   "execution_count": null,
   "metadata": {
    "execution": {
     "iopub.execute_input": "2025-10-21T05:56:22.532553Z",
     "iopub.status.busy": "2025-10-21T05:56:22.531937Z",
     "iopub.status.idle": "2025-10-21T05:56:57.393522Z",
     "shell.execute_reply": "2025-10-21T05:56:57.392774Z",
     "shell.execute_reply.started": "2025-10-21T05:56:22.532525Z"
    },
    "trusted": true
   },
   "outputs": [
    {
     "name": "stdout",
     "output_type": "stream",
     "text": [
      "Extracting and preprocessing corpus...\n",
      "Total unique articles processed: 11475\n",
      "Example of a processed article (first 20 tokens):\n",
      "['aol', 'autos', '--', 'magazines', 'full', 'beauty', 'health', 'secrets', 'tips', 'improve', 'inner', 'health', 'polish', 'paint', 'external', 'persona', 'designed', 'keep', 'feeling', 'young']\n"
     ]
    }
   ],
   "source": [
    "\n",
    "stop_words = set(stopwords.words('english'))\n",
    "\n",
    "def preprocess_text(text):\n",
    "    text = text.lower()\n",
    "    text = re.sub(r'\\d+', '', text)\n",
    "    tokens = word_tokenize(text)\n",
    "    cleaned_tokens = []\n",
    "    for token in tokens:\n",
    "        if token not in string.punctuation and token not in stop_words and len(token) > 1:\n",
    "            cleaned_tokens.append(token)\n",
    "    return cleaned_tokens\n",
    "\n",
    "print(\"Extracting and preprocessing corpus...\")\n",
    "train_contexts = list(dataset['train']['context'])\n",
    "validation_contexts = list(dataset['validation']['context'])\n",
    "all_contexts = set(train_contexts + validation_contexts)\n",
    "sentences = [preprocess_text(context) for context in all_contexts]\n",
    "sentences = [s for s in sentences if s]\n",
    "\n",
    "print(f\"Total unique articles processed: {len(sentences)}\")\n",
    "\n",
    "if sentences:\n",
    "    print(\"Example of a processed article (first 20 tokens):\")\n",
    "    print(sentences[0][:20])\n",
    "else:\n",
    "    print(\"No valid sentences found after preprocessing.\")"
   ]
  },
  {
   "cell_type": "code",
   "execution_count": null,
   "metadata": {
    "execution": {
     "iopub.execute_input": "2025-10-21T05:58:23.682186Z",
     "iopub.status.busy": "2025-10-21T05:58:23.681568Z",
     "iopub.status.idle": "2025-10-21T05:59:14.508915Z",
     "shell.execute_reply": "2025-10-21T05:59:14.507248Z",
     "shell.execute_reply.started": "2025-10-21T05:58:23.682160Z"
    },
    "trusted": true
   },
   "outputs": [
    {
     "name": "stdout",
     "output_type": "stream",
     "text": [
      "\n",
      "--- Experiment 1: Training Word2Vec (Skip-gram) ---\n",
      "Word2Vec model trained and saved.\n",
      "W2V similar to 'india': [('mumbai', 0.7410497665405273), ('delhi', 0.736895740032196), ('indian', 0.6777184009552002), ('pakistan', 0.6498389840126038), ('bangladesh', 0.6376136541366577)]\n"
     ]
    }
   ],
   "source": [
    "print(\"\\n--- Experiment 1: Training Word2Vec (Skip-gram) ---\")\n",
    "model_w2v = Word2Vec(sentences, \n",
    "                     vector_size=100, \n",
    "                     window=5, \n",
    "                     min_count=5, \n",
    "                     workers=4, \n",
    "                     sg=1)\n",
    "\n",
    "model_w2v.save(\"word2vec_sg.model\")\n",
    "print(\"Word2Vec model trained and saved.\")\n",
    "\n",
    "try:\n",
    "    print(\"W2V similar to 'india':\", model_w2v.wv.most_similar('india', topn=5))\n",
    "except KeyError:\n",
    "    print(\"'india' not in vocabulary (or filtered by min_count).\")"
   ]
  },
  {
   "cell_type": "code",
   "execution_count": null,
   "metadata": {
    "execution": {
     "iopub.execute_input": "2025-10-21T06:00:45.418660Z",
     "iopub.status.busy": "2025-10-21T06:00:45.418382Z",
     "iopub.status.idle": "2025-10-21T06:02:34.711128Z",
     "shell.execute_reply": "2025-10-21T06:02:34.709229Z",
     "shell.execute_reply.started": "2025-10-21T06:00:45.418642Z"
    },
    "trusted": true
   },
   "outputs": [
    {
     "name": "stdout",
     "output_type": "stream",
     "text": [
      "\n",
      "--- Experiment 2: Training FastText (Skip-gram) ---\n",
      "FastText model trained and saved.\n",
      "FastText similar to 'india': [('indian', 0.7934386134147644), ('indira', 0.7849792242050171), ('delhi', 0.750071108341217), ('mumbai', 0.7243711948394775), ('indigo', 0.6882209777832031)]\n",
      "FastText vector for OOV word 'indiaaaaaa' (shape): (100,)\n"
     ]
    }
   ],
   "source": [
    "print(\"\\n--- Experiment 2: Training FastText (Skip-gram) ---\")\n",
    "model_ft = FastText(sentences, \n",
    "                    vector_size=100, \n",
    "                    window=5, \n",
    "                    min_count=5, \n",
    "                    workers=4, \n",
    "                    sg=1)\n",
    "\n",
    "model_ft.save(\"fasttext_sg.model\")\n",
    "print(\"FastText model trained and saved.\")\n",
    "\n"
   ]
  },
  {
   "cell_type": "code",
   "execution_count": null,
   "metadata": {
    "execution": {
     "iopub.execute_input": "2025-10-21T06:16:00.105413Z",
     "iopub.status.busy": "2025-10-21T06:16:00.104859Z",
     "iopub.status.idle": "2025-10-21T06:16:05.813149Z",
     "shell.execute_reply": "2025-10-21T06:16:05.812385Z",
     "shell.execute_reply.started": "2025-10-21T06:16:00.105374Z"
    },
    "trusted": true
   },
   "outputs": [],
   "source": [
    "def save_embeddings_to_csv(model_wv, filename):\n",
    "    with open(filename, 'w', newline='', encoding='utf-8') as f:\n",
    "        writer = csv.writer(f)\n",
    "        writer.writerow([\"word\", \"embedding\"])\n",
    "        \n",
    "        for word in model_wv.index_to_key:\n",
    "            vector = model_wv[word]\n",
    "            \n",
    "            vector_str = '[' + ','.join(map(str, vector)) + ']'\n",
    "            \n",
    "            writer.writerow([word, vector_str])\n",
    "\n",
    "\n",
    "save_embeddings_to_csv(model_w2v.wv, \"word2vec_sg_embeddings.csv\")\n",
    "\n",
    "save_embeddings_to_csv(model_ft.wv, \"fasttext_sg_embeddings.csv\")\n"
   ]
  },
  {
   "cell_type": "code",
   "execution_count": null,
   "metadata": {
    "trusted": true
   },
   "outputs": [],
   "source": []
  }
 ],
 "metadata": {
  "kaggle": {
   "accelerator": "gpu",
   "dataSources": [],
   "dockerImageVersionId": 31154,
   "isGpuEnabled": true,
   "isInternetEnabled": true,
   "language": "python",
   "sourceType": "notebook"
  },
  "kernelspec": {
   "display_name": "Python 3",
   "language": "python",
   "name": "python3"
  },
  "language_info": {
   "codemirror_mode": {
    "name": "ipython",
    "version": 3
   },
   "file_extension": ".py",
   "mimetype": "text/x-python",
   "name": "python",
   "nbconvert_exporter": "python",
   "pygments_lexer": "ipython3",
   "version": "3.11.13"
  }
 },
 "nbformat": 4,
 "nbformat_minor": 4
}
